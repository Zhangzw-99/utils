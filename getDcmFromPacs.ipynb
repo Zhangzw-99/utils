{
 "cells": [
  {
   "cell_type": "code",
   "execution_count": null,
   "metadata": {},
   "outputs": [],
   "source": [
    "# 导入所需的包\n",
    "import pydicom\n",
    "from pynetdicom import AE, evt, AllStoragePresentationContexts\n",
    "from pynetdicom.sop_class import PatientRootQueryRetrieveInformationModelMove\n",
    "from tqdm import trange"
   ]
  },
  {
   "cell_type": "code",
   "execution_count": null,
   "metadata": {},
   "outputs": [],
   "source": [
    "\"\"\"\n",
    "    用cnt来记录总共存储了多少个数据.\n",
    "    用errorCnt 来记录总共多少例数据传送失败\n",
    "\"\"\"\n",
    "cnt = 0\n",
    "errorCnt = 0\n",
    "\"\"\"\n",
    "    这里要读取一个文件并获取它的SOP类型\n",
    "\"\"\"\n",
    "# code here \n",
    "\"\"\"\n",
    "    本次数据要从178导入197\n",
    "    创建 targetAE(197),并配置相应的端口和 ae_title \n",
    "\"\"\"\n",
    "targetAEPort = 15112\n",
    "targetAE = AE()\n",
    "targetAE.ae_title = b'DCM4CHEE'\n",
    "targetAE.supported_contexts = AllStoragePresentationContexts\n",
    "# 这里加入 SOP 类型\n",
    "targetAE.add_requested_context()\n",
    "targetAssoc = targetAE.associate('192.168.7.197', 11112, ae_title=b'DCM4CHEE')"
   ]
  },
  {
   "cell_type": "code",
   "execution_count": null,
   "metadata": {},
   "outputs": [],
   "source": [
    "\"\"\"\n",
    "    创建 ae(178),并配置相应端口和 ae_title,读取上个代码块获取的 SOP 类型或重新通过文件获取 SOP 类型\n",
    "\"\"\"\n",
    "# 创建一个应用实体，并设置端口号\n",
    "ae = AE()\n",
    "ae.ae_title = b'DCM4CHEE'\n",
    "ae.network_timeout = None\n",
    "ae.acse_timeout = None\n",
    "ae.dimse_timeout = None\n",
    "ae.maximum_associations = 10\n",
    "ae.supported_contexts = AllStoragePresentationContexts\n",
    "\n",
    "# 这里加入SOP类型\n",
    "ae.add_requested_context()\n",
    "\n",
    "# 连接到 PACS 服务器，IP 地址为 '127.0.0.1'，端口号为 104，应用实体标题为 'DCM4CHEE'\n",
    "assoc = ae.associate('192.168.7.178', 11112, ae_title=b'DCM4CHEE')\n"
   ]
  },
  {
   "cell_type": "code",
   "execution_count": null,
   "metadata": {},
   "outputs": [],
   "source": [
    "# 从源pacs读完数据直接传入目标pacs\n",
    "def send_to_pacs(event):\n",
    "    \"\"\"send the dcm file to target pacs server directly\"\"\"\n",
    "    ds = event.dataset\n",
    "    ds.file_meta = event.file_meta\n",
    "\n",
    "    # 传送 dcm 文件到pacs，为了保证效率，不每次都新建连接。\n",
    "    if targetAssoc.is_established:\n",
    "        status = targetAssoc.send_c_store(ds)\n",
    "        if status.Status  not in [0x0117,0x0122,0x0124,0x0210,0x0211,0x0212]:\n",
    "            cnt+=1\n",
    "        else: \n",
    "            errorCnt+=1\n",
    "\n",
    "# 从源pacs 读完数据后保存至本地\n",
    "def store_in_localhost(event):\n",
    "    cnt+=1\n",
    "    \"\"\"Handle a C-STORE request event.\"\"\"\n",
    "    ds = event.dataset\n",
    "    ds.file_meta = event.file_meta\n",
    "\n",
    "    # 保存 DICOM 文件到本地，文件名为 SOPInstanceUID.dcm\n",
    "    ds.save_as(ds.SOPInstanceUID, write_like_original=False)\n",
    "\n",
    "    # 返回一个成功的状态码\n",
    "    return 0x0000\n",
    "\n",
    "# 绑定处理函数到事件上，以便在收到 DICOM 文件时执行该函数\n",
    "\"\"\"或者不存本地, 使用sendToPacs直接传进pacs\"\"\"\n",
    "handlers = [(evt.EVT_C_STORE, store_in_localhost)]"
   ]
  },
  {
   "cell_type": "code",
   "execution_count": null,
   "metadata": {},
   "outputs": [],
   "source": [
    "# 启动一个监听服务，等待 PACS 服务器发送 DICOM 文件过来\n",
    "\"\"\"此处设置监听端口\"\"\"\n",
    "port = 10247\n",
    "ae.start_server(('127.0.0.1', port), block=False, evt_handlers=handlers)"
   ]
  },
  {
   "cell_type": "code",
   "execution_count": null,
   "metadata": {},
   "outputs": [],
   "source": [
    "if assoc.is_established:\n",
    "    # 使用 PatientID 来指定查询条件，这里以 '' 为例\n",
    "    # 您可以根据需要添加或修改查询条件\n",
    "    responses = assoc.send_c_find('', PatientRootQueryRetrieveInformationModelMove)\n",
    "\n",
    "    for (status, identifier) in trange(responses):\n",
    "        if status:\n",
    "            print('C-FIND query status: 0x{0:04x}'.format(status.Status))\n",
    "\n",
    "            # 如果查询结果不为空，则发送 C-MOVE 消息给 PACS 服务器，并指定目标应用实体标题为 'DCM4CHEE'\n",
    "            \"\"\"这两个16进制数代表传送成功\"\"\"\n",
    "            if status.Status in (0xFF00, 0xFF01):\n",
    "                assoc.send_c_move(identifier, b'DCM4CHEE', PatientRootQueryRetrieveInformationModelMove)\n",
    "        else:\n",
    "            print('Connection timed out, was aborted or received invalid response')"
   ]
  },
  {
   "cell_type": "code",
   "execution_count": null,
   "metadata": {},
   "outputs": [],
   "source": [
    "assoc.release()\n",
    "targetAssoc.release()"
   ]
  }
 ],
 "metadata": {
  "kernelspec": {
   "display_name": "torch",
   "language": "python",
   "name": "python3"
  },
  "language_info": {
   "name": "python",
   "version": "3.10.9"
  },
  "orig_nbformat": 4,
  "vscode": {
   "interpreter": {
    "hash": "c29e719cfc4ae2e0dd8dd6131efd00ad1dc1d270dfa801f2206aff4e9bc92f9b"
   }
  }
 },
 "nbformat": 4,
 "nbformat_minor": 2
}
